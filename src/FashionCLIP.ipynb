{
 "cells": [
  {
   "cell_type": "code",
   "execution_count": 5,
   "id": "ca3581f2-fcde-4e38-8878-b2b73a3df3ef",
   "metadata": {
    "tags": []
   },
   "outputs": [],
   "source": [
    "from transformers import AutoProcessor, AutoModelForZeroShotImageClassification\n",
    "from PIL import Image\n",
    "import torch"
   ]
  },
  {
   "cell_type": "code",
   "execution_count": 15,
   "id": "81b72318-fe99-4afc-bf74-9c6f579f01aa",
   "metadata": {
    "tags": []
   },
   "outputs": [],
   "source": [
    "# Load processor and model\n",
    "processor = AutoProcessor.from_pretrained(\"patrickjohncyh/fashion-clip\")\n",
    "model = AutoModelForZeroShotImageClassification.from_pretrained(\"patrickjohncyh/fashion-clip\")"
   ]
  },
  {
   "cell_type": "code",
   "execution_count": 14,
   "id": "f40d12b1-57b4-4c6b-91a7-45caf6f454a3",
   "metadata": {
    "tags": []
   },
   "outputs": [],
   "source": [
    "# Load and prepare the image\n",
    "image_path = \"sweater.png\"\n",
    "image = Image.open(image_path).convert(\"RGB\")"
   ]
  },
  {
   "cell_type": "code",
   "execution_count": 16,
   "id": "75f7485e-ce4a-4c6c-92c7-f3ea818d132c",
   "metadata": {
    "tags": []
   },
   "outputs": [],
   "source": [
    "# Define fashion labels\n",
    "candidate_labels = [\n",
    "    \"streetwear\", \"vintage style\", \"90s aesthetic\", \"oversized outfit\",\n",
    "    \"y2k fashion\", \"boho\", \"classy evening wear\", \"minimalist\", \"grunge\", \"sweater\"\n",
    "]\n",
    "\n",
    "# Preprocess input\n",
    "inputs = processor(images=image, text=candidate_labels, return_tensors=\"pt\", padding=True)"
   ]
  },
  {
   "cell_type": "code",
   "execution_count": 17,
   "id": "619a76ee-d3cf-43ce-828b-dc36f037040c",
   "metadata": {
    "tags": []
   },
   "outputs": [
    {
     "name": "stdout",
     "output_type": "stream",
     "text": [
      "sweater: 0.9970\n",
      "boho: 0.0021\n",
      "vintage style: 0.0004\n",
      "minimalist: 0.0002\n",
      "grunge: 0.0001\n",
      "oversized outfit: 0.0001\n",
      "streetwear: 0.0001\n",
      "y2k fashion: 0.0000\n",
      "90s aesthetic: 0.0000\n",
      "classy evening wear: 0.0000\n"
     ]
    }
   ],
   "source": [
    "# Forward pass\n",
    "with torch.no_grad():\n",
    "    outputs = model(**inputs)\n",
    "    logits = outputs.logits_per_image  # shape: [1, num_labels]\n",
    "    probs = logits.softmax(dim=1)\n",
    "\n",
    "# Print ranked results\n",
    "for label, score in sorted(zip(candidate_labels, probs[0]), key=lambda x: -x[1]):\n",
    "    print(f\"{label}: {score.item():.4f}\")"
   ]
  },
  {
   "cell_type": "code",
   "execution_count": 20,
   "id": "1039e820-34dc-4df9-830e-fb7360f1706a",
   "metadata": {
    "tags": []
   },
   "outputs": [],
   "source": [
    "# BLIP-2 example using transformers\n",
    "from transformers import BlipProcessor, BlipForConditionalGeneration\n",
    "from PIL import Image\n",
    "import torch"
   ]
  },
  {
   "cell_type": "code",
   "execution_count": 21,
   "id": "fba52150-0a83-41d5-b0b8-027849d4394b",
   "metadata": {
    "tags": []
   },
   "outputs": [],
   "source": [
    "# Load BLIP-2\n",
    "processor = BlipProcessor.from_pretrained(\"Salesforce/blip-image-captioning-base\")\n",
    "model = BlipForConditionalGeneration.from_pretrained(\"Salesforce/blip-image-captioning-base\")"
   ]
  },
  {
   "cell_type": "code",
   "execution_count": 22,
   "id": "e2f52400-12a2-46c0-8796-2fe620845cad",
   "metadata": {
    "tags": []
   },
   "outputs": [
    {
     "name": "stdout",
     "output_type": "stream",
     "text": [
      "BLIP-2 Caption: a woman in a white top and blue pants\n"
     ]
    }
   ],
   "source": [
    "# Load your image\n",
    "image = Image.open(\"jeans.png\").convert(\"RGB\")\n",
    "\n",
    "# Generate caption\n",
    "inputs = processor(image, return_tensors=\"pt\")\n",
    "out = model.generate(**inputs)\n",
    "caption = processor.decode(out[0], skip_special_tokens=True)\n",
    "print(\"BLIP-2 Caption:\", caption)"
   ]
  },
  {
   "cell_type": "code",
   "execution_count": null,
   "id": "c40cbd31-475e-44a7-87ee-0c26d812e0d4",
   "metadata": {},
   "outputs": [],
   "source": []
  }
 ],
 "metadata": {
  "kernelspec": {
   "display_name": "Python 3 (ipykernel)",
   "language": "python",
   "name": "python3"
  },
  "language_info": {
   "codemirror_mode": {
    "name": "ipython",
    "version": 3
   },
   "file_extension": ".py",
   "mimetype": "text/x-python",
   "name": "python",
   "nbconvert_exporter": "python",
   "pygments_lexer": "ipython3",
   "version": "3.11.4"
  }
 },
 "nbformat": 4,
 "nbformat_minor": 5
}
