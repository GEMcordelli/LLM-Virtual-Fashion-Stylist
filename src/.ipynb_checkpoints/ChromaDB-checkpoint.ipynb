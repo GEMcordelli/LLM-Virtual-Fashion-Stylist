{
 "cells": [
  {
   "cell_type": "code",
   "execution_count": 1,
   "id": "b6c8422f-857b-48aa-b32e-e6244a7ecc1c",
   "metadata": {
    "tags": []
   },
   "outputs": [],
   "source": [
    "import chromadb"
   ]
  },
  {
   "cell_type": "code",
   "execution_count": 2,
   "id": "77121640-abae-4540-bd25-d1804294b5db",
   "metadata": {
    "tags": []
   },
   "outputs": [],
   "source": [
    "chroma_client = chromadb.Client()"
   ]
  },
  {
   "cell_type": "code",
   "execution_count": 3,
   "id": "5ee097a6-ab54-4bc5-bd8c-8e24c8811721",
   "metadata": {
    "tags": []
   },
   "outputs": [],
   "source": [
    "collection = chroma_client.create_collection(name=\"wardrobe_colleciton\")"
   ]
  },
  {
   "cell_type": "code",
   "execution_count": null,
   "id": "f4c46316-60bb-41e8-b520-3f585142e464",
   "metadata": {},
   "outputs": [],
   "source": []
  }
 ],
 "metadata": {
  "kernelspec": {
   "display_name": "Python 3 (ipykernel)",
   "language": "python",
   "name": "python3"
  },
  "language_info": {
   "codemirror_mode": {
    "name": "ipython",
    "version": 3
   },
   "file_extension": ".py",
   "mimetype": "text/x-python",
   "name": "python",
   "nbconvert_exporter": "python",
   "pygments_lexer": "ipython3",
   "version": "3.11.4"
  }
 },
 "nbformat": 4,
 "nbformat_minor": 5
}
